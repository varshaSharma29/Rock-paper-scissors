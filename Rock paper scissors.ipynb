{
 "cells": [
  {
   "cell_type": "code",
   "execution_count": 1,
   "id": "fe231467-e7c4-4fc7-a139-78d885275666",
   "metadata": {},
   "outputs": [
    {
     "name": "stdin",
     "output_type": "stream",
     "text": [
      "Whats your choice?\n",
      " 'r' for rock ,'p' for paper,'s' for scissors\n",
      " r\n"
     ]
    },
    {
     "data": {
      "text/plain": [
       "'You Lost!'"
      ]
     },
     "execution_count": 1,
     "metadata": {},
     "output_type": "execute_result"
    }
   ],
   "source": [
    "import random \n",
    "def play():\n",
    "    user=input(\"Whats your choice?\\n 'r' for rock ,'p' for paper,'s' for scissors\\n\")\n",
    "    computer =random.choice(['r','p','s'])\n",
    "\n",
    "    if user == computer:\n",
    "        return 'It\\'s is a tie'\n",
    "\n",
    "    if  is_win(user,computer):\n",
    "        return 'You Won!'\n",
    "    return 'You Lost!'\n",
    "\n",
    "def is_win(player,opponent):\n",
    "    if (player =='r' and opponent == 's') or (player =='s' and opponent == 'p')or (player =='p' and opponent == 'r'):\n",
    "        return True\n",
    "play()"
   ]
  },
  {
   "cell_type": "code",
   "execution_count": null,
   "id": "08499d99-5314-4459-ad02-52a03e8b0579",
   "metadata": {},
   "outputs": [],
   "source": []
  }
 ],
 "metadata": {
  "kernelspec": {
   "display_name": "Python 3 (ipykernel)",
   "language": "python",
   "name": "python3"
  },
  "language_info": {
   "codemirror_mode": {
    "name": "ipython",
    "version": 3
   },
   "file_extension": ".py",
   "mimetype": "text/x-python",
   "name": "python",
   "nbconvert_exporter": "python",
   "pygments_lexer": "ipython3",
   "version": "3.13.3"
  }
 },
 "nbformat": 4,
 "nbformat_minor": 5
}
